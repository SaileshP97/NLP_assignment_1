{
 "cells": [
  {
   "cell_type": "code",
   "execution_count": 1,
   "metadata": {},
   "outputs": [
    {
     "name": "stderr",
     "output_type": "stream",
     "text": [
      "/Users/saileshpanda/Desktop/IITGN/.AI/lib/python3.9/site-packages/urllib3/__init__.py:35: NotOpenSSLWarning: urllib3 v2 only supports OpenSSL 1.1.1+, currently the 'ssl' module is compiled with 'LibreSSL 2.8.3'. See: https://github.com/urllib3/urllib3/issues/3020\n",
      "  warnings.warn(\n"
     ]
    }
   ],
   "source": [
    "import requests as re\n",
    "from requests.exceptions import ReadTimeout\n",
    "\n",
    "from bs4 import BeautifulSoup\n",
    "import json\n",
    "\n",
    "import pandas as pd\n",
    "\n",
    "import warnings\n",
    "warnings.filterwarnings('ignore')"
   ]
  },
  {
   "cell_type": "code",
   "execution_count": 6,
   "metadata": {},
   "outputs": [
    {
     "name": "stdout",
     "output_type": "stream",
     "text": [
      "36120\n",
      "36130\n",
      "36140\n",
      "36150\n",
      "36160\n",
      "36170\n",
      "36180\n",
      "36190\n",
      "36200\n",
      "36210\n",
      "36220\n",
      "36230\n",
      "36240\n",
      "36250\n",
      "36260\n",
      "36270\n",
      "36280\n",
      "36290\n",
      "36300\n",
      "36310\n",
      "36320\n",
      "36330\n",
      "36340\n",
      "36350\n",
      "36360\n",
      "36370\n",
      "36380\n",
      "36390\n",
      "36400\n",
      "36410\n",
      "36420\n",
      "36430\n",
      "36440\n",
      "36450\n",
      "36460\n",
      "36470\n",
      "36480\n",
      "36490\n",
      "36500\n",
      "36510\n",
      "36520\n",
      "36530\n",
      "36540\n",
      "36550\n",
      "36560\n",
      "36570\n",
      "36580\n",
      "36590\n",
      "36600\n",
      "36610\n",
      "36620\n"
     ]
    }
   ],
   "source": [
    "with open('./westerntimesnews_url.json', 'r') as f:\n",
    "\n",
    "    url_dict = json.load(f)\n",
    "\n",
    "try:\n",
    "    text_df = pd.read_csv('./westerntimesnews_text.csv')\n",
    "    #text_df = text_df.drop('Unnamed: 0', axis=1)\n",
    "\n",
    "except FileNotFoundError:\n",
    "    text_df = pd.DataFrame(columns=['Link','Text'])\n",
    "\n",
    "for idx, url in enumerate(url_dict.keys()):\n",
    "\n",
    "    if url_dict[url] == 1:\n",
    "        continue\n",
    "\n",
    "    text = []\n",
    "    headers = {\n",
    "        'User-Agent': 'Mozilla/5.0 (Windows NT 10.0; Win64; x64) AppleWebKit/537.36 (KHTML, like Gecko) Chrome/58.0.3029.110 Safari/537.3'}\n",
    "    response = re.get(url, headers=headers)\n",
    "    soup = BeautifulSoup(response.content, 'html.parser')\n",
    "\n",
    "    x = soup.find_all('p')\n",
    "    for p in x:  \n",
    "        text.append(p.get_text())\n",
    "    \n",
    "    text_df.loc[len(text_df),:] = [url, text]\n",
    "    url_dict[url] = 1\n",
    "\n",
    "    if idx%10 == 0:\n",
    "        print(idx)\n",
    "        with open('./westerntimesnews_url.json', 'w') as f:\n",
    "\n",
    "            json.dump(url_dict, f, indent=4)\n",
    "\n",
    "        text_df.to_csv(\"./westerntimesnews_text.csv\", index=False)"
   ]
  }
 ],
 "metadata": {
  "kernelspec": {
   "display_name": ".AI",
   "language": "python",
   "name": "python3"
  },
  "language_info": {
   "codemirror_mode": {
    "name": "ipython",
    "version": 3
   },
   "file_extension": ".py",
   "mimetype": "text/x-python",
   "name": "python",
   "nbconvert_exporter": "python",
   "pygments_lexer": "ipython3",
   "version": "3.9.6"
  }
 },
 "nbformat": 4,
 "nbformat_minor": 2
}
