{
 "cells": [
  {
   "cell_type": "code",
   "execution_count": 6,
   "metadata": {},
   "outputs": [],
   "source": [
    "import pandas as pd\n",
    "import requests as re\n",
    "import json\n",
    "\n",
    "from bs4 import BeautifulSoup\n",
    "\n",
    "import warnings\n",
    "warnings.filterwarnings('ignore')"
   ]
  },
  {
   "cell_type": "code",
   "execution_count": 20,
   "metadata": {},
   "outputs": [],
   "source": [
    "base_url = \"https://gujarati.indianexpress.com/\"\n",
    "\n",
    "categories = {'gujarat':0, 'entertainment':0, 'career':0, 'sports':0,\n",
    "             'dharma':0, 'news':0, 'elections':0, 'business':0,\n",
    "             'lifestyle':0, 'top-news':0}"
   ]
  },
  {
   "cell_type": "code",
   "execution_count": null,
   "metadata": {},
   "outputs": [],
   "source": [
    "try:\n",
    "    with open(\"base_url.json\", 'r') as f:\n",
    "        base_url_dict = json.load(f)\n",
    "except Exception as e:\n",
    "    base_url_dict = {}\n",
    "\n",
    "headers = {\n",
    "        'User-Agent': 'Mozilla/5.0 (Windows NT 10.0; Win64; x64) AppleWebKit/537.36 (KHTML, like Gecko) Chrome/58.0.3029.110 Safari/537.3'}\n",
    "for category in categories.keys():\n",
    "\n",
    "    flag = 1\n",
    "    page = 1\n",
    "    count = 0\n",
    "    while(flag):\n",
    "\n",
    "        url = base_url+category+'/page/'+str(page)\n",
    "        response = re.get(url, headers=headers)\n",
    "        soup = BeautifulSoup(response.content, 'html.parser')\n",
    "\n",
    "        articles = soup.find_all('div', class_=\"ie-news-content\")\n",
    "        if len(articles) == 0:\n",
    "            if count>=10:\n",
    "                break\n",
    "            page+=1\n",
    "        for article in articles:\n",
    "\n",
    "            a = article.find('a')\n",
    "            base_url_dict[a['href']] = 0\n",
    "        \n",
    "        page+=1\n",
    "        count+=1\n",
    "\n",
    "    categories[category] = 1\n",
    "    print(category)"
   ]
  },
  {
   "cell_type": "code",
   "execution_count": 29,
   "metadata": {},
   "outputs": [],
   "source": [
    "with open(\"base_url.json\", 'w') as f:\n",
    "    json.dump(base_url_dict, f, indent=4)"
   ]
  },
  {
   "cell_type": "code",
   "execution_count": null,
   "metadata": {},
   "outputs": [],
   "source": [
    "with open('./base_url.json', 'r') as f:\n",
    "\n",
    "    base_url_dict = json.load(f)\n",
    "\n",
    "try:\n",
    "    text_df = pd.read_csv('./indianexpress_text.csv')\n",
    "except FileNotFoundError:\n",
    "    text_df = pd.DataFrame(columns=['Link','Text'])\n",
    "\n",
    "for idx, url in enumerate(base_url_dict.keys()):\n",
    "\n",
    "    if base_url_dict[url] == 1:\n",
    "        continue\n",
    "\n",
    "    text = []\n",
    "    headers = {\n",
    "        'User-Agent': 'Mozilla/5.0 (Windows NT 10.0; Win64; x64) AppleWebKit/537.36 (KHTML, like Gecko) Chrome/58.0.3029.110 Safari/537.3'}\n",
    "    response = re.get(url, headers=headers)\n",
    "    soup = BeautifulSoup(response.content, 'html.parser')\n",
    "\n",
    "    x = soup.find_all('p')\n",
    "    for p in x:\n",
    "        text.append(p.get_text())\n",
    "    \n",
    "    text_df.loc[len(text_df),:] = [url, text]\n",
    "    base_url_dict[url] = 1\n",
    "\n",
    "    if idx%10 == 0:\n",
    "        with open('./base_url.json', 'w') as f:\n",
    "\n",
    "            json.dump(base_url_dict, f, indent=4)\n",
    "\n",
    "        text_df.to_csv(\"./indianexpress_text.csv\")"
   ]
  }
 ],
 "metadata": {
  "kernelspec": {
   "display_name": ".AI",
   "language": "python",
   "name": "python3"
  },
  "language_info": {
   "codemirror_mode": {
    "name": "ipython",
    "version": 3
   },
   "file_extension": ".py",
   "mimetype": "text/x-python",
   "name": "python",
   "nbconvert_exporter": "python",
   "pygments_lexer": "ipython3",
   "version": "3.9.6"
  }
 },
 "nbformat": 4,
 "nbformat_minor": 2
}
