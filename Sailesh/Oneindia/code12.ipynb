{
 "cells": [
  {
   "cell_type": "code",
   "execution_count": null,
   "metadata": {},
   "outputs": [],
   "source": [
    "import requests as re\n",
    "from requests.exceptions import ReadTimeout\n",
    "\n",
    "from bs4 import BeautifulSoup\n",
    "import json\n",
    "\n",
    "import pandas as pd\n",
    "\n",
    "import warnings\n",
    "warnings.filterwarnings('ignore')"
   ]
  },
  {
   "cell_type": "code",
   "execution_count": 32,
   "metadata": {},
   "outputs": [],
   "source": [
    "base_url = \"https://gujarati.oneindia.com/\"\n",
    "\n",
    "#categories = {'news':1, 'news/city':1, 'movies':0, 'astrology':0, 'auto':0,\n",
    "#             'travel':0}"
   ]
  },
  {
   "cell_type": "code",
   "execution_count": null,
   "metadata": {},
   "outputs": [],
   "source": [
    "try:\n",
    "    with open(\"base_url.json\", 'r') as f:\n",
    "        base_url_dict = json.load(f)\n",
    "except Exception as e:\n",
    "    base_url_dict = {}\n",
    "\n",
    "headers = {\n",
    "        'User-Agent': 'Mozilla/5.0 (Windows NT 10.0; Win64; x64) AppleWebKit/537.36 (KHTML, like Gecko) Chrome/58.0.3029.110 Safari/537.3'}\n",
    "for category in categories.keys():\n",
    "\n",
    "    if categories[category] == 1:\n",
    "        continue\n",
    "\n",
    "    flag = 1\n",
    "    page = 1\n",
    "    count = 0\n",
    "    prev_articles = []\n",
    "    while(flag):\n",
    "\n",
    "        url = base_url+category+'//?page-no='+str(page)\n",
    "        response = re.get(url, headers=headers)\n",
    "        soup = BeautifulSoup(response.content, 'html.parser')\n",
    "\n",
    "        articles = soup.find_all('div', class_='oi-article-thumb')\n",
    "        if (prev_articles == articles) or (len(articles)==0):\n",
    "            if count>=10:\n",
    "                break\n",
    "            page+=1\n",
    "            count+=1\n",
    "            print(f\"Count: {count} Page:{page}\")\n",
    "            prev_articles = articles\n",
    "            continue\n",
    "        prev_articles = articles\n",
    "\n",
    "        for article in articles:\n",
    "\n",
    "            a = article.find('a')\n",
    "            base_url_dict[a['href']] = 0\n",
    "\n",
    "        \n",
    "        page+=1\n",
    "        print(f\"Count: {count} Page:{page}\")\n",
    "\n",
    "    categories[category] = 1\n",
    "    print(category)\n",
    "    with open(\"base_url.json\", 'w') as f:\n",
    "        json.dump(base_url_dict, f, indent=4)"
   ]
  },
  {
   "cell_type": "code",
   "execution_count": null,
   "metadata": {},
   "outputs": [],
   "source": [
    "with open('./base_url.json', 'r') as f:\n",
    "\n",
    "    url_dict = json.load(f)\n",
    "\n",
    "try:\n",
    "    text_df = pd.read_csv('./oneindia_text.csv')\n",
    "\n",
    "except FileNotFoundError:\n",
    "    text_df = pd.DataFrame(columns=['Link','Text'])\n",
    "\n",
    "for idx, url in enumerate(url_dict.keys()):\n",
    "\n",
    "    if url_dict[url] == 1:\n",
    "        continue\n",
    "\n",
    "    url_ = \"https://gujarati.oneindia.com\" + url\n",
    "\n",
    "    text = []\n",
    "    headers = {\n",
    "        'User-Agent': 'Mozilla/5.0 (Windows NT 10.0; Win64; x64) AppleWebKit/537.36 (KHTML, like Gecko) Chrome/58.0.3029.110 Safari/537.3'}\n",
    "    response = re.get(url_, headers=headers)\n",
    "    soup = BeautifulSoup(response.content, 'html.parser')\n",
    "\n",
    "    x = soup.find_all('p')\n",
    "    for p in x:  \n",
    "        text.append(p.get_text())\n",
    "    \n",
    "    text_df.loc[len(text_df),:] = [url_, text]\n",
    "    url_dict[url] = 1\n",
    "\n",
    "    if idx%100 == 0:\n",
    "        print(idx)\n",
    "        with open('./base_url.json', 'w') as f:\n",
    "\n",
    "            json.dump(url_dict, f, indent=4)\n",
    "\n",
    "        text_df.to_csv(\"./oneindia_text.csv\", index=False)"
   ]
  },
  {
   "cell_type": "code",
   "execution_count": 9,
   "metadata": {},
   "outputs": [],
   "source": [
    "text_df.to_csv(\"./oneindia_text.csv\", index=False)"
   ]
  }
 ],
 "metadata": {
  "kernelspec": {
   "display_name": ".AI",
   "language": "python",
   "name": "python3"
  },
  "language_info": {
   "codemirror_mode": {
    "name": "ipython",
    "version": 3
   },
   "file_extension": ".py",
   "mimetype": "text/x-python",
   "name": "python",
   "nbconvert_exporter": "python",
   "pygments_lexer": "ipython3",
   "version": "3.9.6"
  }
 },
 "nbformat": 4,
 "nbformat_minor": 2
}
